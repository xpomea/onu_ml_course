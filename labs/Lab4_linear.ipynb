{
 "cells": [
  {
   "cell_type": "code",
   "execution_count": 43,
   "metadata": {
    "collapsed": false
   },
   "outputs": [],
   "source": [
    "import numpy as np\n",
    "import pandas as pd\n",
    "import matplotlib.pyplot as plt\n",
    "import seaborn as sns\n",
    "import optuna\n",
    "import warnings\n",
    "from sklearn.preprocessing import StandardScaler\n",
    "from sklearn.metrics import mean_squared_error, r2_score\n",
    "from sklearn.linear_model import LinearRegression, Ridge, Lasso, ElasticNet\n",
    "from sklearn.ensemble import RandomForestRegressor\n",
    "from sklearn.model_selection import train_test_split, cross_validate, cross_val_score\n",
    "warnings.filterwarnings(\"ignore\")\n",
    "optuna.logging.set_verbosity(optuna.logging.WARNING)"
   ]
  },
  {
   "cell_type": "markdown",
   "metadata": {
    "collapsed": false
   },
   "source": [
    "#### Loading data"
   ]
  },
  {
   "cell_type": "code",
   "execution_count": 44,
   "metadata": {
    "collapsed": false
   },
   "outputs": [
    {
     "data": {
      "text/html": [
       "<div>\n",
       "<style scoped>\n",
       "    .dataframe tbody tr th:only-of-type {\n",
       "        vertical-align: middle;\n",
       "    }\n",
       "\n",
       "    .dataframe tbody tr th {\n",
       "        vertical-align: top;\n",
       "    }\n",
       "\n",
       "    .dataframe thead th {\n",
       "        text-align: right;\n",
       "    }\n",
       "</style>\n",
       "<table border=\"1\" class=\"dataframe\">\n",
       "  <thead>\n",
       "    <tr style=\"text-align: right;\">\n",
       "      <th></th>\n",
       "      <th>url</th>\n",
       "      <th>timedelta</th>\n",
       "      <th>n_tokens_title</th>\n",
       "      <th>n_tokens_content</th>\n",
       "      <th>n_unique_tokens</th>\n",
       "      <th>n_non_stop_words</th>\n",
       "      <th>n_non_stop_unique_tokens</th>\n",
       "      <th>num_hrefs</th>\n",
       "      <th>num_self_hrefs</th>\n",
       "      <th>num_imgs</th>\n",
       "      <th>...</th>\n",
       "      <th>min_positive_polarity</th>\n",
       "      <th>max_positive_polarity</th>\n",
       "      <th>avg_negative_polarity</th>\n",
       "      <th>min_negative_polarity</th>\n",
       "      <th>max_negative_polarity</th>\n",
       "      <th>title_subjectivity</th>\n",
       "      <th>title_sentiment_polarity</th>\n",
       "      <th>abs_title_subjectivity</th>\n",
       "      <th>abs_title_sentiment_polarity</th>\n",
       "      <th>shares</th>\n",
       "    </tr>\n",
       "  </thead>\n",
       "  <tbody>\n",
       "    <tr>\n",
       "      <th>0</th>\n",
       "      <td>http://mashable.com/2014/09/28/jobs-tech-workers/</td>\n",
       "      <td>101</td>\n",
       "      <td>12</td>\n",
       "      <td>332</td>\n",
       "      <td>0.528481</td>\n",
       "      <td>1.0</td>\n",
       "      <td>0.645833</td>\n",
       "      <td>6</td>\n",
       "      <td>3</td>\n",
       "      <td>1</td>\n",
       "      <td>...</td>\n",
       "      <td>0.100000</td>\n",
       "      <td>0.7</td>\n",
       "      <td>-0.145833</td>\n",
       "      <td>-0.166667</td>\n",
       "      <td>-0.125000</td>\n",
       "      <td>0.718182</td>\n",
       "      <td>0.137121</td>\n",
       "      <td>0.218182</td>\n",
       "      <td>0.137121</td>\n",
       "      <td>8600</td>\n",
       "    </tr>\n",
       "    <tr>\n",
       "      <th>1</th>\n",
       "      <td>http://mashable.com/2014/09/28/obama-says-u-s-...</td>\n",
       "      <td>101</td>\n",
       "      <td>10</td>\n",
       "      <td>393</td>\n",
       "      <td>0.518817</td>\n",
       "      <td>1.0</td>\n",
       "      <td>0.596899</td>\n",
       "      <td>14</td>\n",
       "      <td>1</td>\n",
       "      <td>1</td>\n",
       "      <td>...</td>\n",
       "      <td>0.250000</td>\n",
       "      <td>0.8</td>\n",
       "      <td>-0.312500</td>\n",
       "      <td>-0.500000</td>\n",
       "      <td>-0.250000</td>\n",
       "      <td>0.500000</td>\n",
       "      <td>0.000000</td>\n",
       "      <td>0.000000</td>\n",
       "      <td>0.000000</td>\n",
       "      <td>23700</td>\n",
       "    </tr>\n",
       "    <tr>\n",
       "      <th>2</th>\n",
       "      <td>http://mashable.com/2014/09/28/once-upon-a-tim...</td>\n",
       "      <td>101</td>\n",
       "      <td>13</td>\n",
       "      <td>1643</td>\n",
       "      <td>0.388854</td>\n",
       "      <td>1.0</td>\n",
       "      <td>0.546967</td>\n",
       "      <td>29</td>\n",
       "      <td>4</td>\n",
       "      <td>7</td>\n",
       "      <td>...</td>\n",
       "      <td>0.033333</td>\n",
       "      <td>0.8</td>\n",
       "      <td>-0.227778</td>\n",
       "      <td>-0.800000</td>\n",
       "      <td>-0.050000</td>\n",
       "      <td>0.000000</td>\n",
       "      <td>0.000000</td>\n",
       "      <td>0.500000</td>\n",
       "      <td>0.000000</td>\n",
       "      <td>8400</td>\n",
       "    </tr>\n",
       "    <tr>\n",
       "      <th>3</th>\n",
       "      <td>http://mashable.com/2014/09/28/the-simpsons-de...</td>\n",
       "      <td>101</td>\n",
       "      <td>9</td>\n",
       "      <td>272</td>\n",
       "      <td>0.488889</td>\n",
       "      <td>1.0</td>\n",
       "      <td>0.512690</td>\n",
       "      <td>2</td>\n",
       "      <td>2</td>\n",
       "      <td>11</td>\n",
       "      <td>...</td>\n",
       "      <td>0.100000</td>\n",
       "      <td>1.0</td>\n",
       "      <td>-0.416667</td>\n",
       "      <td>-1.000000</td>\n",
       "      <td>-0.166667</td>\n",
       "      <td>0.000000</td>\n",
       "      <td>0.000000</td>\n",
       "      <td>0.500000</td>\n",
       "      <td>0.000000</td>\n",
       "      <td>4800</td>\n",
       "    </tr>\n",
       "    <tr>\n",
       "      <th>4</th>\n",
       "      <td>http://mashable.com/2014/09/28/viola-davis-les...</td>\n",
       "      <td>101</td>\n",
       "      <td>12</td>\n",
       "      <td>0</td>\n",
       "      <td>0.000000</td>\n",
       "      <td>0.0</td>\n",
       "      <td>0.000000</td>\n",
       "      <td>0</td>\n",
       "      <td>0</td>\n",
       "      <td>0</td>\n",
       "      <td>...</td>\n",
       "      <td>0.000000</td>\n",
       "      <td>0.0</td>\n",
       "      <td>0.000000</td>\n",
       "      <td>0.000000</td>\n",
       "      <td>0.000000</td>\n",
       "      <td>0.541071</td>\n",
       "      <td>0.067560</td>\n",
       "      <td>0.041071</td>\n",
       "      <td>0.067560</td>\n",
       "      <td>3100</td>\n",
       "    </tr>\n",
       "  </tbody>\n",
       "</table>\n",
       "<p>5 rows × 61 columns</p>\n",
       "</div>"
      ],
      "text/plain": [
       "                                                 url  timedelta  \\\n",
       "0  http://mashable.com/2014/09/28/jobs-tech-workers/        101   \n",
       "1  http://mashable.com/2014/09/28/obama-says-u-s-...        101   \n",
       "2  http://mashable.com/2014/09/28/once-upon-a-tim...        101   \n",
       "3  http://mashable.com/2014/09/28/the-simpsons-de...        101   \n",
       "4  http://mashable.com/2014/09/28/viola-davis-les...        101   \n",
       "\n",
       "   n_tokens_title  n_tokens_content  n_unique_tokens  n_non_stop_words  \\\n",
       "0              12               332         0.528481               1.0   \n",
       "1              10               393         0.518817               1.0   \n",
       "2              13              1643         0.388854               1.0   \n",
       "3               9               272         0.488889               1.0   \n",
       "4              12                 0         0.000000               0.0   \n",
       "\n",
       "   n_non_stop_unique_tokens  num_hrefs  num_self_hrefs  num_imgs  ...  \\\n",
       "0                  0.645833          6               3         1  ...   \n",
       "1                  0.596899         14               1         1  ...   \n",
       "2                  0.546967         29               4         7  ...   \n",
       "3                  0.512690          2               2        11  ...   \n",
       "4                  0.000000          0               0         0  ...   \n",
       "\n",
       "   min_positive_polarity  max_positive_polarity  avg_negative_polarity  \\\n",
       "0               0.100000                    0.7              -0.145833   \n",
       "1               0.250000                    0.8              -0.312500   \n",
       "2               0.033333                    0.8              -0.227778   \n",
       "3               0.100000                    1.0              -0.416667   \n",
       "4               0.000000                    0.0               0.000000   \n",
       "\n",
       "   min_negative_polarity  max_negative_polarity  title_subjectivity  \\\n",
       "0              -0.166667              -0.125000            0.718182   \n",
       "1              -0.500000              -0.250000            0.500000   \n",
       "2              -0.800000              -0.050000            0.000000   \n",
       "3              -1.000000              -0.166667            0.000000   \n",
       "4               0.000000               0.000000            0.541071   \n",
       "\n",
       "   title_sentiment_polarity  abs_title_subjectivity  \\\n",
       "0                  0.137121                0.218182   \n",
       "1                  0.000000                0.000000   \n",
       "2                  0.000000                0.500000   \n",
       "3                  0.000000                0.500000   \n",
       "4                  0.067560                0.041071   \n",
       "\n",
       "   abs_title_sentiment_polarity  shares  \n",
       "0                      0.137121    8600  \n",
       "1                      0.000000   23700  \n",
       "2                      0.000000    8400  \n",
       "3                      0.000000    4800  \n",
       "4                      0.067560    3100  \n",
       "\n",
       "[5 rows x 61 columns]"
      ]
     },
     "execution_count": 44,
     "metadata": {},
     "output_type": "execute_result"
    }
   ],
   "source": [
    "df = pd.read_csv('OnlineNewsPopularityReduced.csv')\n",
    "df.head()"
   ]
  },
  {
   "cell_type": "markdown",
   "metadata": {
    "collapsed": false
   },
   "source": [
    "#### A bit of preprocessing, this dataset doesn't require a lot."
   ]
  },
  {
   "cell_type": "code",
   "execution_count": 45,
   "metadata": {
    "collapsed": false
   },
   "outputs": [],
   "source": [
    "df = df[df.n_tokens_content != 0]\n",
    "df.drop(columns=['url', 'kw_min_min'], inplace=True)"
   ]
  },
  {
   "cell_type": "code",
   "execution_count": 46,
   "metadata": {
    "collapsed": false
   },
   "outputs": [
    {
     "data": {
      "text/plain": [
       "timedelta                          int64\n",
       "n_tokens_title                     int64\n",
       "n_tokens_content                   int64\n",
       "n_unique_tokens                  float64\n",
       "n_non_stop_words                 float64\n",
       "n_non_stop_unique_tokens         float64\n",
       "num_hrefs                          int64\n",
       "num_self_hrefs                     int64\n",
       "num_imgs                           int64\n",
       "num_videos                         int64\n",
       "average_token_length             float64\n",
       "num_keywords                       int64\n",
       "data_channel_is_lifestyle          int64\n",
       "data_channel_is_entertainment      int64\n",
       "data_channel_is_bus                int64\n",
       "data_channel_is_socmed             int64\n",
       "data_channel_is_tech               int64\n",
       "data_channel_is_world              int64\n",
       "kw_max_min                       float64\n",
       "kw_avg_min                       float64\n",
       "kw_min_max                         int64\n",
       "kw_max_max                         int64\n",
       "kw_avg_max                       float64\n",
       "kw_min_avg                       float64\n",
       "kw_max_avg                       float64\n",
       "kw_avg_avg                       float64\n",
       "self_reference_min_shares        float64\n",
       "self_reference_max_shares          int64\n",
       "self_reference_avg_sharess       float64\n",
       "weekday_is_monday                  int64\n",
       "weekday_is_tuesday                 int64\n",
       "weekday_is_wednesday               int64\n",
       "weekday_is_thursday                int64\n",
       "weekday_is_friday                  int64\n",
       "weekday_is_saturday                int64\n",
       "weekday_is_sunday                  int64\n",
       "is_weekend                         int64\n",
       "LDA_00                           float64\n",
       "LDA_01                           float64\n",
       "LDA_02                           float64\n",
       "LDA_03                           float64\n",
       "LDA_04                           float64\n",
       "global_subjectivity              float64\n",
       "global_sentiment_polarity        float64\n",
       "global_rate_positive_words       float64\n",
       "global_rate_negative_words       float64\n",
       "rate_positive_words              float64\n",
       "rate_negative_words              float64\n",
       "avg_positive_polarity            float64\n",
       "min_positive_polarity            float64\n",
       "max_positive_polarity            float64\n",
       "avg_negative_polarity            float64\n",
       "min_negative_polarity            float64\n",
       "max_negative_polarity            float64\n",
       "title_subjectivity               float64\n",
       "title_sentiment_polarity         float64\n",
       "abs_title_subjectivity           float64\n",
       "abs_title_sentiment_polarity     float64\n",
       "shares                             int64\n",
       "dtype: object"
      ]
     },
     "execution_count": 46,
     "metadata": {},
     "output_type": "execute_result"
    }
   ],
   "source": [
    "df.dtypes"
   ]
  },
  {
   "cell_type": "markdown",
   "metadata": {
    "collapsed": false
   },
   "source": [
    "#### Splitting data into train/validation sets"
   ]
  },
  {
   "cell_type": "code",
   "execution_count": 47,
   "metadata": {
    "collapsed": false
   },
   "outputs": [],
   "source": [
    "X = df.drop(columns='shares')\n",
    "columns = X.columns\n",
    "y = df.shares\n",
    "y_log = np.log(y)\n",
    "scaler = StandardScaler()\n",
    "X = scaler.fit_transform(X)\n",
    "X_train, X_test, y_train, y_test = train_test_split(X, y_log, test_size=.25, random_state=4)"
   ]
  },
  {
   "cell_type": "markdown",
   "metadata": {
    "collapsed": false
   },
   "source": [
    "### No regularization Linear Regression"
   ]
  },
  {
   "cell_type": "markdown",
   "metadata": {
    "collapsed": false
   },
   "source": [
    "#### Default parameters"
   ]
  },
  {
   "cell_type": "code",
   "execution_count": 48,
   "metadata": {
    "collapsed": false
   },
   "outputs": [
    {
     "name": "stdout",
     "output_type": "stream",
     "text": [
      "Train MSE: -0.6367392166577105\n",
      "Test MSE: -5.289610935268622e+18\n",
      "Train R2: 0.18915291958772698\n",
      "Test R2: -8.027322478171472e+18\n",
      "            coef               feature        cfsabs\n",
      "30  6.526569e+11    weekday_is_tuesday  6.526569e+11\n",
      "31  6.366774e+11  weekday_is_wednesday  6.366774e+11\n",
      "29  6.326761e+11     weekday_is_monday  6.326761e+11\n",
      "32  6.193172e+11   weekday_is_thursday  6.193172e+11\n",
      "33  5.756386e+11     weekday_is_friday  5.756386e+11\n",
      "36  3.313041e+11            is_weekend  3.313041e+11\n",
      "35  1.737836e+11     weekday_is_sunday  1.737836e+11\n",
      "34  1.690445e+11   weekday_is_saturday  1.690445e+11\n",
      "39  3.938517e+06                LDA_02  3.938517e+06\n",
      "40  3.568554e+06                LDA_03  3.568554e+06\n",
      "7.430045422961407\n"
     ]
    }
   ],
   "source": [
    "model = LinearRegression()\n",
    "scores = cross_validate(model, X, y_log, cv=4, scoring=['neg_mean_squared_error', 'r2'], return_train_score=True)\n",
    "print('Train MSE:', scores['train_neg_mean_squared_error'].mean())\n",
    "print('Test MSE:', scores['test_neg_mean_squared_error'].mean())\n",
    "print('Train R2:', scores['train_r2'].mean())\n",
    "print('Test R2:', scores['test_r2'].mean())\n",
    "model.fit(X, y_log)\n",
    "cfs = pd.DataFrame({'coef':model.coef_, 'feature':columns})\n",
    "cfs['cfsabs'] = np.abs(cfs.coef)\n",
    "print((cfs).sort_values('cfsabs', ascending=False).head(10))\n",
    "print(model.intercept_)"
   ]
  },
  {
   "cell_type": "markdown",
   "metadata": {
    "collapsed": false
   },
   "source": [
    "### Linear Regression + L1 reg"
   ]
  },
  {
   "cell_type": "markdown",
   "metadata": {
    "collapsed": false
   },
   "source": [
    "#### Default parameters"
   ]
  },
  {
   "cell_type": "code",
   "execution_count": 49,
   "metadata": {
    "collapsed": false
   },
   "outputs": [
    {
     "name": "stdout",
     "output_type": "stream",
     "text": [
      "Train MSE: -0.7860909903129962\n",
      "Test MSE: -0.8105010146814803\n",
      "Train R2: 0.0\n",
      "Test R2: -0.05546542691498041\n",
      "    coef                    feature  cfsabs\n",
      "0    0.0                  timedelta     0.0\n",
      "43   0.0  global_sentiment_polarity     0.0\n",
      "31  -0.0       weekday_is_wednesday     0.0\n",
      "32  -0.0        weekday_is_thursday     0.0\n",
      "33  -0.0          weekday_is_friday     0.0\n",
      "34   0.0        weekday_is_saturday     0.0\n",
      "35   0.0          weekday_is_sunday     0.0\n",
      "36   0.0                 is_weekend     0.0\n",
      "37   0.0                     LDA_00     0.0\n",
      "38   0.0                     LDA_01     0.0\n",
      "7.430064470357546\n"
     ]
    }
   ],
   "source": [
    "model = Lasso()\n",
    "scores = cross_validate(model, X, y_log, cv=4, scoring=['neg_mean_squared_error', 'r2'], return_train_score=True)\n",
    "print('Train MSE:', scores['train_neg_mean_squared_error'].mean())\n",
    "print('Test MSE:', scores['test_neg_mean_squared_error'].mean())\n",
    "print('Train R2:', scores['train_r2'].mean())\n",
    "print('Test R2:', scores['test_r2'].mean())\n",
    "model.fit(X, y_log)\n",
    "cfs = pd.DataFrame({'coef':model.coef_, 'feature':columns})\n",
    "cfs['cfsabs'] = np.abs(cfs.coef)\n",
    "print((cfs).sort_values('cfsabs', ascending=False).head(10))\n",
    "print(model.intercept_)"
   ]
  },
  {
   "cell_type": "markdown",
   "metadata": {
    "collapsed": false
   },
   "source": [
    "#### Optimized parameters"
   ]
  },
  {
   "cell_type": "code",
   "execution_count": 50,
   "metadata": {
    "collapsed": false
   },
   "outputs": [],
   "source": [
    "def objective(trial):\n",
    "    return cross_val_score(Lasso(alpha=10 ** trial.suggest_float('r', -15, -1)), X, y_log, cv=4, scoring='r2').mean()"
   ]
  },
  {
   "cell_type": "code",
   "execution_count": 51,
   "metadata": {
    "collapsed": false
   },
   "outputs": [],
   "source": [
    "study = optuna.create_study(direction='maximize')\n",
    "study.optimize(objective, 100, n_jobs=-1)"
   ]
  },
  {
   "cell_type": "code",
   "execution_count": 10,
   "metadata": {
    "collapsed": false
   },
   "outputs": [
    {
     "data": {
      "text/plain": [
       "{'r': -1.8673269614938799}"
      ]
     },
     "execution_count": 10,
     "metadata": {},
     "output_type": "execute_result"
    }
   ],
   "source": [
    "study.best_params"
   ]
  },
  {
   "cell_type": "code",
   "execution_count": 23,
   "metadata": {
    "collapsed": false
   },
   "outputs": [
    {
     "data": {
      "text/plain": [
       "<Axes: xlabel='params_r'>"
      ]
     },
     "execution_count": 23,
     "metadata": {},
     "output_type": "execute_result"
    },
    {
     "data": {
      "image/png": "[encoded data removed]",
      "text/plain": [
       "<Figure size 640x480 with 1 Axes>"
      ]
     },
     "metadata": {},
     "output_type": "display_data"
    }
   ],
   "source": [
    "results = study.trials_dataframe()\n",
    "results = results[['params_r', 'value']]\n",
    "results.sort_values('params_r').plot('params_r', 'value')"
   ]
  },
  {
   "cell_type": "code",
   "execution_count": 12,
   "metadata": {
    "collapsed": false
   },
   "outputs": [
    {
     "name": "stdout",
     "output_type": "stream",
     "text": [
      "Train MSE: -0.6368055434953066\n",
      "Test MSE: -0.7629181089745102\n",
      "Train R2: 0.18906849067039808\n",
      "Test R2: 0.006181219604454363\n",
      "        coef                     feature\n",
      "25  0.348827                  kw_avg_avg\n",
      "0   0.133198                   timedelta\n",
      "46  0.117460         rate_positive_words\n",
      "28  0.116834  self_reference_avg_sharess\n",
      "19  0.089484                  kw_avg_min\n",
      "11  0.084967                num_keywords\n",
      "47  0.076579         rate_negative_words\n",
      "6   0.067099                   num_hrefs\n",
      "3   0.059843             n_unique_tokens\n",
      "35  0.041688           weekday_is_sunday\n",
      "7.430064471012245\n"
     ]
    }
   ],
   "source": [
    "model = Ridge(alpha=10**study.best_params['r'])\n",
    "scores = cross_validate(model, X, y_log, cv=4, scoring=['neg_mean_squared_error', 'r2'], return_train_score=True)\n",
    "print('Train MSE:', scores['train_neg_mean_squared_error'].mean())\n",
    "print('Test MSE:', scores['test_neg_mean_squared_error'].mean())\n",
    "print('Train R2:', scores['train_r2'].mean())\n",
    "print('Test R2:', scores['test_r2'].mean())\n",
    "model.fit(X, y_log)\n",
    "cfs = pd.DataFrame({'coef':model.coef_, 'feature':columns})\n",
    "cfs['cfsabs'] = np.abs(cfs.coef)\n",
    "print((cfs).sort_values('cfsabs', ascending=False).head(10))\n",
    "print(model.intercept_)"
   ]
  },
  {
   "cell_type": "markdown",
   "metadata": {
    "collapsed": false
   },
   "source": [
    "### Linear Regression + L2 reg"
   ]
  },
  {
   "cell_type": "markdown",
   "metadata": {
    "collapsed": false
   },
   "source": [
    "#### Default parameters"
   ]
  },
  {
   "cell_type": "code",
   "execution_count": 121,
   "metadata": {
    "collapsed": false
   },
   "outputs": [
    {
     "name": "stdout",
     "output_type": "stream",
     "text": [
      "Train MSE: -0.6368060874084109\n",
      "Test MSE: -0.7627447315687311\n",
      "Train R2: 0.1890678102600844\n",
      "Test R2: 0.006450573806600218\n",
      "        coef                     feature\n",
      "25  0.347756                  kw_avg_avg\n",
      "0   0.133189                   timedelta\n",
      "28  0.116149  self_reference_avg_sharess\n",
      "46  0.113402         rate_positive_words\n",
      "19  0.089150                  kw_avg_min\n",
      "11  0.085012                num_keywords\n",
      "47  0.072477         rate_negative_words\n",
      "6   0.067106                   num_hrefs\n",
      "3   0.059589             n_unique_tokens\n",
      "35  0.041678           weekday_is_sunday\n",
      "7.43006447100969\n"
     ]
    }
   ],
   "source": [
    "model = Ridge()\n",
    "scores = cross_validate(model, X, y_log, cv=4, scoring=['neg_mean_squared_error', 'r2'], return_train_score=True)\n",
    "print('Train MSE:', scores['train_neg_mean_squared_error'].mean())\n",
    "print('Test MSE:', scores['test_neg_mean_squared_error'].mean())\n",
    "print('Train R2:', scores['train_r2'].mean())\n",
    "print('Test R2:', scores['test_r2'].mean())\n",
    "model.fit(X, y_log)\n",
    "cfs = pd.DataFrame({'coef':model.coef_, 'feature':columns})\n",
    "cfs['cfsabs'] = np.abs(cfs.coef)\n",
    "print((cfs).sort_values('cfsabs', ascending=False).head(10))\n",
    "print(model.intercept_)"
   ]
  },
  {
   "cell_type": "markdown",
   "metadata": {
    "collapsed": false
   },
   "source": [
    "#### Optimized parameters"
   ]
  },
  {
   "cell_type": "code",
   "execution_count": 49,
   "metadata": {
    "collapsed": false
   },
   "outputs": [],
   "source": [
    "def objective(trial):\n",
    "    return cross_val_score(Ridge(alpha=10 ** trial.suggest_float('r', -15, -1)), X, y_log, cv=4, scoring='r2').mean()"
   ]
  },
  {
   "cell_type": "code",
   "execution_count": 50,
   "metadata": {
    "collapsed": false
   },
   "outputs": [
    {
     "name": "stderr",
     "output_type": "stream",
     "text": [
      "[I 2023-11-13 19:37:39,387] A new study created in memory with name: no-name-0ccceae7-cab0-4da5-bcd2-af6cd8ef8311\n",
      "[I 2023-11-13 19:37:39,569] Trial 0 finished with value: 0.00617745709384343 and parameters: {'r': -7.9762568490522}. Best is trial 0 with value: 0.00617745709384343.\n",
      "[I 2023-11-13 19:37:39,581] Trial 4 finished with value: 0.006178074671597006 and parameters: {'r': -9.044588763365109}. Best is trial 4 with value: 0.006178074671597006.\n",
      "[I 2023-11-13 19:37:39,594] Trial 2 finished with value: 0.006179298556195978 and parameters: {'r': -8.73011664338554}. Best is trial 2 with value: 0.006179298556195978.\n",
      "[I 2023-11-13 19:37:39,602] Trial 3 finished with value: 0.006177437689509735 and parameters: {'r': -6.488150286023583}. Best is trial 2 with value: 0.006179298556195978.\n",
      "[I 2023-11-13 19:37:39,607] Trial 1 finished with value: 0.006178289892661282 and parameters: {'r': -2.5149177066532555}. Best is trial 2 with value: 0.006179298556195978.\n",
      "[I 2023-11-13 19:37:39,609] Trial 8 finished with value: 0.006306744863288027 and parameters: {'r': -9.866838699305221}. Best is trial 8 with value: 0.006306744863288027.\n",
      "[I 2023-11-13 19:37:39,618] Trial 10 finished with value: 0.006189139313431707 and parameters: {'r': -1.3764783819951685}. Best is trial 8 with value: 0.006306744863288027.\n",
      "[I 2023-11-13 19:37:39,622] Trial 5 finished with value: 0.006177476109485269 and parameters: {'r': -7.812230632087449}. Best is trial 8 with value: 0.006306744863288027.\n",
      "[I 2023-11-13 19:37:39,631] Trial 7 finished with value: 0.0061774393363429325 and parameters: {'r': -5.484958669205641}. Best is trial 8 with value: 0.006306744863288027.\n",
      "[I 2023-11-13 19:37:39,643] Trial 6 finished with value: 0.006178121954156346 and parameters: {'r': -2.610346601283851}. Best is trial 8 with value: 0.006306744863288027.\n",
      "[I 2023-11-13 19:37:39,643] Trial 12 finished with value: 0.00618247918494616 and parameters: {'r': -9.501750859800982}. Best is trial 8 with value: 0.006306744863288027.\n",
      "[I 2023-11-13 19:37:39,649] Trial 9 finished with value: 0.00617744190830169 and parameters: {'r': -4.911990066277596}. Best is trial 8 with value: 0.006306744863288027.\n",
      "[I 2023-11-13 19:37:39,650] Trial 14 finished with value: 0.0061774474408226865 and parameters: {'r': -4.494330752716433}. Best is trial 8 with value: 0.006306744863288027.\n",
      "[I 2023-11-13 19:37:39,651] Trial 19 finished with value: 0.0061774729623392255 and parameters: {'r': -3.908006101466169}. Best is trial 8 with value: 0.006306744863288027.\n",
      "[I 2023-11-13 19:37:39,662] Trial 13 finished with value: -58.844935556806085 and parameters: {'r': -14.978418958867053}. Best is trial 8 with value: 0.006306744863288027.\n",
      "[I 2023-11-13 19:37:39,668] Trial 11 finished with value: -11.581740814775209 and parameters: {'r': -14.6286174265428}. Best is trial 8 with value: 0.006306744863288027.\n",
      "C:\\ProgramData\\anaconda3\\lib\\site-packages\\sklearn\\linear_model\\_ridge.py:216: LinAlgWarning: Ill-conditioned matrix (rcond=1.08612e-17): result may not be accurate.\n",
      "  return linalg.solve(A, Xy, assume_a=\"pos\", overwrite_a=True).T\n",
      "[I 2023-11-13 19:37:39,677] Trial 18 finished with value: 0.0061774380233676485 and parameters: {'r': -6.42091459221151}. Best is trial 8 with value: 0.006306744863288027.\n",
      "[I 2023-11-13 19:37:39,681] Trial 16 finished with value: -0.013274761340914099 and parameters: {'r': -13.325610690529448}. Best is trial 8 with value: 0.006306744863288027.\n",
      "C:\\ProgramData\\anaconda3\\lib\\site-packages\\sklearn\\linear_model\\_ridge.py:216: LinAlgWarning: Ill-conditioned matrix (rcond=2.80621e-17): result may not be accurate.\n",
      "  return linalg.solve(A, Xy, assume_a=\"pos\", overwrite_a=True).T\n",
      "[I 2023-11-13 19:37:39,713] Trial 15 finished with value: -0.1645744651750082 and parameters: {'r': -13.741003217068442}. Best is trial 8 with value: 0.006306744863288027.\n",
      "[I 2023-11-13 19:37:39,721] Trial 17 finished with value: 0.0061774679705746405 and parameters: {'r': -3.9759992883443367}. Best is trial 8 with value: 0.006306744863288027.\n",
      "[I 2023-11-13 19:37:39,789] Trial 21 finished with value: 0.0061774441656467505 and parameters: {'r': -7.48325869900011}. Best is trial 8 with value: 0.006306744863288027.\n",
      "[I 2023-11-13 19:37:39,821] Trial 20 finished with value: -0.20629397179433254 and parameters: {'r': -13.785409656674414}. Best is trial 8 with value: 0.006306744863288027.\n",
      "[I 2023-11-13 19:37:39,842] Trial 22 finished with value: 0.0061774382763845614 and parameters: {'r': -6.132509281039553}. Best is trial 8 with value: 0.006306744863288027.\n",
      "[I 2023-11-13 19:37:39,868] Trial 24 finished with value: 0.0062039776796270485 and parameters: {'r': -1.0203389885327958}. Best is trial 8 with value: 0.006306744863288027.\n",
      "[I 2023-11-13 19:37:39,899] Trial 29 finished with value: 0.006181057673414092 and parameters: {'r': -1.8863414658579165}. Best is trial 8 with value: 0.006306744863288027.\n",
      "[I 2023-11-13 19:37:39,911] Trial 25 finished with value: 0.006195426439046692 and parameters: {'r': -1.189514715910254}. Best is trial 8 with value: 0.006306744863288027.\n",
      "[I 2023-11-13 19:37:39,914] Trial 27 finished with value: 0.006185052862231255 and parameters: {'r': -1.563190035262114}. Best is trial 8 with value: 0.006306744863288027.\n",
      "[I 2023-11-13 19:37:39,916] Trial 23 finished with value: 0.006609927857188863 and parameters: {'r': -12.08273191134652}. Best is trial 23 with value: 0.006609927857188863.\n",
      "[I 2023-11-13 19:37:39,921] Trial 26 finished with value: -6766.6584440470315 and parameters: {'r': -11.55035256678254}. Best is trial 23 with value: 0.006609927857188863.\n",
      "[I 2023-11-13 19:37:39,934] Trial 31 finished with value: 0.006186718762594523 and parameters: {'r': -1.47721061301689}. Best is trial 23 with value: 0.006609927857188863.\n",
      "[I 2023-11-13 19:37:39,949] Trial 28 finished with value: 0.006182151600385238 and parameters: {'r': -1.7716090552620072}. Best is trial 23 with value: 0.006609927857188863.\n",
      "[I 2023-11-13 19:37:39,961] Trial 30 finished with value: 0.006198883933766608 and parameters: {'r': -1.113052268402006}. Best is trial 23 with value: 0.006609927857188863.\n",
      "[I 2023-11-13 19:37:39,969] Trial 33 finished with value: 0.006204442238250674 and parameters: {'r': -1.0127879424786952}. Best is trial 23 with value: 0.006609927857188863.\n",
      "[I 2023-11-13 19:37:39,970] Trial 32 finished with value: -0.14353009072551123 and parameters: {'r': -10.769129781514684}. Best is trial 23 with value: 0.006609927857188863.\n",
      "[I 2023-11-13 19:37:39,979] Trial 34 finished with value: 0.0052775129206457105 and parameters: {'r': -10.31507827641212}. Best is trial 23 with value: 0.006609927857188863.\n",
      "[I 2023-11-13 19:37:40,002] Trial 35 finished with value: 0.006114404963947717 and parameters: {'r': -9.659337339236775}. Best is trial 23 with value: 0.006609927857188863.\n",
      "[I 2023-11-13 19:37:40,018] Trial 36 finished with value: 0.006283160355223333 and parameters: {'r': -10.011739455323118}. Best is trial 23 with value: 0.006609927857188863.\n",
      "[I 2023-11-13 19:37:40,088] Trial 38 finished with value: 0.006199975009317321 and parameters: {'r': -1.0914660512317382}. Best is trial 23 with value: 0.006609927857188863.\n",
      "[I 2023-11-13 19:37:40,094] Trial 37 finished with value: 0.0061936157041736495 and parameters: {'r': -1.2356497562249198}. Best is trial 23 with value: 0.006609927857188863.\n",
      "[I 2023-11-13 19:37:40,106] Trial 39 finished with value: 0.006193296510182772 and parameters: {'r': -1.2443145968690228}. Best is trial 23 with value: 0.006609927857188863.\n",
      "[I 2023-11-13 19:37:40,121] Trial 40 finished with value: 0.0061863019228896865 and parameters: {'r': -1.4971825833031116}. Best is trial 23 with value: 0.006609927857188863.\n",
      "[I 2023-11-13 19:37:40,153] Trial 42 finished with value: 0.004852792064542921 and parameters: {'r': -10.635932072713015}. Best is trial 23 with value: 0.006609927857188863.\n",
      "[I 2023-11-13 19:37:40,172] Trial 41 finished with value: 0.006187277694561122 and parameters: {'r': -1.4517936692150497}. Best is trial 23 with value: 0.006609927857188863.\n",
      "[I 2023-11-13 19:37:40,195] Trial 44 finished with value: 0.004294646267581581 and parameters: {'r': -10.15168463547671}. Best is trial 23 with value: 0.006609927857188863.\n",
      "[I 2023-11-13 19:37:40,198] Trial 43 finished with value: 0.003727186918532688 and parameters: {'r': -10.2218010744107}. Best is trial 23 with value: 0.006609927857188863.\n",
      "[I 2023-11-13 19:37:40,205] Trial 45 finished with value: -0.6133182306865408 and parameters: {'r': -10.674754406962366}. Best is trial 23 with value: 0.006609927857188863.\n",
      "[I 2023-11-13 19:37:40,217] Trial 48 finished with value: 0.006177744671874319 and parameters: {'r': -2.9591217820455307}. Best is trial 23 with value: 0.006609927857188863.\n",
      "[I 2023-11-13 19:37:40,219] Trial 46 finished with value: -0.22730513862567564 and parameters: {'r': -10.531706486120909}. Best is trial 23 with value: 0.006609927857188863.\n",
      "[I 2023-11-13 19:37:40,227] Trial 49 finished with value: -0.025839955800863706 and parameters: {'r': -10.223893784910548}. Best is trial 23 with value: 0.006609927857188863.\n",
      "[I 2023-11-13 19:37:40,228] Trial 47 finished with value: 0.006177601479014361 and parameters: {'r': -3.2329903069750463}. Best is trial 23 with value: 0.006609927857188863.\n",
      "[I 2023-11-13 19:37:40,231] Trial 51 finished with value: 0.006177873983161164 and parameters: {'r': -2.806101348498854}. Best is trial 23 with value: 0.006609927857188863.\n",
      "[I 2023-11-13 19:37:40,241] Trial 50 finished with value: 0.006177962482161237 and parameters: {'r': -2.725749289951483}. Best is trial 23 with value: 0.006609927857188863.\n",
      "[I 2023-11-13 19:37:40,242] Trial 52 finished with value: 0.006177710195266445 and parameters: {'r': -3.011010457172309}. Best is trial 23 with value: 0.006609927857188863.\n",
      "[I 2023-11-13 19:37:40,271] Trial 56 finished with value: 0.006177459635924809 and parameters: {'r': -8.157224978686555}. Best is trial 23 with value: 0.006609927857188863.\n",
      "[I 2023-11-13 19:37:40,271] Trial 54 finished with value: 0.006177996522504864 and parameters: {'r': -2.698411728683602}. Best is trial 23 with value: 0.006609927857188863.\n",
      "[I 2023-11-13 19:37:40,276] Trial 53 finished with value: 0.006177735980477217 and parameters: {'r': -2.9716298241572696}. Best is trial 23 with value: 0.006609927857188863.\n",
      "[I 2023-11-13 19:37:40,282] Trial 55 finished with value: 0.006177953053386309 and parameters: {'r': -8.287399652207057}. Best is trial 23 with value: 0.006609927857188863.\n",
      "[I 2023-11-13 19:37:40,370] Trial 57 finished with value: 0.006177335190508643 and parameters: {'r': -8.3638903638348}. Best is trial 23 with value: 0.006609927857188863.\n",
      "[I 2023-11-13 19:37:40,404] Trial 58 finished with value: 0.006177899916364887 and parameters: {'r': -2.7809774963817677}. Best is trial 23 with value: 0.006609927857188863.\n",
      "[I 2023-11-13 19:37:40,413] Trial 59 finished with value: 0.006178113959476289 and parameters: {'r': -2.615457149241297}. Best is trial 23 with value: 0.006609927857188863.\n",
      "[I 2023-11-13 19:37:40,418] Trial 61 finished with value: 0.00617771094782385 and parameters: {'r': -3.009809141109171}. Best is trial 23 with value: 0.006609927857188863.\n",
      "[I 2023-11-13 19:37:40,428] Trial 60 finished with value: 0.006177305614684991 and parameters: {'r': -8.400235093566396}. Best is trial 23 with value: 0.006609927857188863.\n",
      "[I 2023-11-13 19:37:40,460] Trial 62 finished with value: 0.006178027838636829 and parameters: {'r': -2.6746965860619696}. Best is trial 23 with value: 0.006609927857188863.\n",
      "[I 2023-11-13 19:37:40,464] Trial 63 finished with value: 0.006177592726648723 and parameters: {'r': -8.536824923239323}. Best is trial 23 with value: 0.006609927857188863.\n",
      "[I 2023-11-13 19:37:40,487] Trial 64 finished with value: 0.006177531843294198 and parameters: {'r': -8.277451055783565}. Best is trial 23 with value: 0.006609927857188863.\n",
      "[I 2023-11-13 19:37:40,489] Trial 65 finished with value: 0.006179551815041456 and parameters: {'r': -2.120036118207466}. Best is trial 23 with value: 0.006609927857188863.\n",
      "[I 2023-11-13 19:37:40,506] Trial 67 finished with value: 0.006178038306600908 and parameters: {'r': -8.582442292260597}. Best is trial 23 with value: 0.006609927857188863.\n",
      "[I 2023-11-13 19:37:40,523] Trial 66 finished with value: 0.006178877597249499 and parameters: {'r': -2.286933821396713}. Best is trial 23 with value: 0.006609927857188863.\n",
      "[I 2023-11-13 19:37:40,539] Trial 69 finished with value: 0.0061795520028831985 and parameters: {'r': -2.1199975131431827}. Best is trial 23 with value: 0.006609927857188863.\n",
      "[I 2023-11-13 19:37:40,543] Trial 70 finished with value: 0.006179169829852504 and parameters: {'r': -2.206633690007517}. Best is trial 23 with value: 0.006609927857188863.\n",
      "[I 2023-11-13 19:37:40,559] Trial 68 finished with value: 0.006179731918148801 and parameters: {'r': -8.7208513906902}. Best is trial 23 with value: 0.006609927857188863.\n",
      "[I 2023-11-13 19:37:40,561] Trial 71 finished with value: 0.006179254460012468 and parameters: {'r': -2.185904267948133}. Best is trial 23 with value: 0.006609927857188863.\n",
      "[I 2023-11-13 19:37:40,571] Trial 72 finished with value: 0.00617903621595145 and parameters: {'r': -2.241518661344434}. Best is trial 23 with value: 0.006609927857188863.\n",
      "[I 2023-11-13 19:37:40,572] Trial 73 finished with value: 0.0061793634877087555 and parameters: {'r': -2.160578828750772}. Best is trial 23 with value: 0.006609927857188863.\n",
      "[I 2023-11-13 19:37:40,589] Trial 76 finished with value: 0.006179530571820663 and parameters: {'r': -8.850395149382395}. Best is trial 23 with value: 0.006609927857188863.\n",
      "[I 2023-11-13 19:37:40,604] Trial 75 finished with value: 0.006179940118686472 and parameters: {'r': -2.04676624019333}. Best is trial 23 with value: 0.006609927857188863.\n",
      "[I 2023-11-13 19:37:40,614] Trial 74 finished with value: 0.006178654996041616 and parameters: {'r': -2.35992163736411}. Best is trial 23 with value: 0.006609927857188863.\n",
      "[I 2023-11-13 19:37:40,661] Trial 77 finished with value: 0.006180637366062974 and parameters: {'r': -1.9399684185730237}. Best is trial 23 with value: 0.006609927857188863.\n",
      "[I 2023-11-13 19:37:40,670] Trial 78 finished with value: 0.006179208522820917 and parameters: {'r': -2.1970332873613447}. Best is trial 23 with value: 0.006609927857188863.\n",
      "[I 2023-11-13 19:37:40,683] Trial 79 finished with value: 0.006180430781507373 and parameters: {'r': -1.9689687605625092}. Best is trial 23 with value: 0.006609927857188863.\n",
      "[I 2023-11-13 19:37:40,711] Trial 81 finished with value: 0.006179624906204384 and parameters: {'r': -2.1052670428335154}. Best is trial 23 with value: 0.006609927857188863.\n",
      "[I 2023-11-13 19:37:40,719] Trial 80 finished with value: 0.006179780109882599 and parameters: {'r': -2.075478140232409}. Best is trial 23 with value: 0.006609927857188863.\n",
      "[I 2023-11-13 19:37:40,731] Trial 83 finished with value: 0.006179236558964019 and parameters: {'r': -2.190207246367326}. Best is trial 23 with value: 0.006609927857188863.\n",
      "[I 2023-11-13 19:37:40,741] Trial 82 finished with value: 0.006179668375011882 and parameters: {'r': -2.0967159085403786}. Best is trial 23 with value: 0.006609927857188863.\n",
      "[I 2023-11-13 19:37:40,771] Trial 84 finished with value: 0.006204544477144441 and parameters: {'r': -1.0111435401414892}. Best is trial 23 with value: 0.006609927857188863.\n",
      "[I 2023-11-13 19:37:40,808] Trial 86 finished with value: 0.006202894359640554 and parameters: {'r': -1.0384728771848846}. Best is trial 23 with value: 0.006609927857188863.\n",
      "[I 2023-11-13 19:37:40,816] Trial 87 finished with value: 0.006198895443797953 and parameters: {'r': -1.1128188767677871}. Best is trial 23 with value: 0.006609927857188863.\n",
      "[I 2023-11-13 19:37:40,822] Trial 85 finished with value: 0.006195530648559405 and parameters: {'r': -1.187002692011582}. Best is trial 23 with value: 0.006609927857188863.\n",
      "[I 2023-11-13 19:37:40,828] Trial 89 finished with value: 0.0061983332748132836 and parameters: {'r': -1.1243667712168106}. Best is trial 23 with value: 0.006609927857188863.\n",
      "[I 2023-11-13 19:37:40,832] Trial 88 finished with value: 0.006196111350277478 and parameters: {'r': -1.173263911431493}. Best is trial 23 with value: 0.006609927857188863.\n",
      "[I 2023-11-13 19:37:40,858] Trial 93 finished with value: 0.006204450541616474 and parameters: {'r': -1.012654160175989}. Best is trial 23 with value: 0.006609927857188863.\n",
      "[I 2023-11-13 19:37:40,861] Trial 94 finished with value: 0.006201795412818595 and parameters: {'r': -1.0576730570178743}. Best is trial 23 with value: 0.006609927857188863.\n",
      "[I 2023-11-13 19:37:40,863] Trial 90 finished with value: 0.0061856404935302645 and parameters: {'r': -1.530885548950374}. Best is trial 23 with value: 0.006609927857188863.\n",
      "[I 2023-11-13 19:37:40,867] Trial 91 finished with value: 0.006198777981100578 and parameters: {'r': -1.1152065894092575}. Best is trial 23 with value: 0.006609927857188863.\n",
      "[I 2023-11-13 19:37:40,871] Trial 97 finished with value: 0.006201250278369069 and parameters: {'r': -1.0675206566632927}. Best is trial 23 with value: 0.006609927857188863.\n",
      "[I 2023-11-13 19:37:40,877] Trial 95 finished with value: 0.006192081090549945 and parameters: {'r': -1.2789837039473393}. Best is trial 23 with value: 0.006609927857188863.\n",
      "[I 2023-11-13 19:37:40,881] Trial 92 finished with value: 0.006182943793387546 and parameters: {'r': -1.70411001894383}. Best is trial 23 with value: 0.006609927857188863.\n",
      "[I 2023-11-13 19:37:40,886] Trial 99 finished with value: 0.006201406235113338 and parameters: {'r': -1.0646805742576737}. Best is trial 23 with value: 0.006609927857188863.\n",
      "[I 2023-11-13 19:37:40,888] Trial 96 finished with value: 0.0061987697610940695 and parameters: {'r': -1.1153741718630794}. Best is trial 23 with value: 0.006609927857188863.\n",
      "[I 2023-11-13 19:37:40,890] Trial 98 finished with value: 0.0062046030583474965 and parameters: {'r': -1.0102041120108733}. Best is trial 23 with value: 0.006609927857188863.\n"
     ]
    }
   ],
   "source": [
    "study = optuna.create_study(direction='maximize')\n",
    "study.optimize(objective, 100, n_jobs=-1)"
   ]
  },
  {
   "cell_type": "code",
   "execution_count": 51,
   "metadata": {
    "collapsed": false
   },
   "outputs": [
    {
     "data": {
      "text/plain": [
       "{'r': -12.08273191134652}"
      ]
     },
     "execution_count": 51,
     "metadata": {},
     "output_type": "execute_result"
    }
   ],
   "source": [
    "study.best_params"
   ]
  },
  {
   "cell_type": "code",
   "execution_count": 23,
   "metadata": {
    "collapsed": false
   },
   "outputs": [
    {
     "data": {
      "text/plain": [
       "<Axes: xlabel='params_r'>"
      ]
     },
     "execution_count": 23,
     "metadata": {},
     "output_type": "execute_result"
    },
    {
     "data": {
      "image/png": "[encoded data removed]",
      "text/plain": [
       "<Figure size 640x480 with 1 Axes>"
      ]
     },
     "metadata": {},
     "output_type": "display_data"
    }
   ],
   "source": [
    "results = study.trials_dataframe()\n",
    "results = results[['params_r', 'value']]\n",
    "results.sort_values('params_r').plot('params_r', 'value')"
   ]
  },
  {
   "cell_type": "code",
   "execution_count": 24,
   "metadata": {
    "collapsed": false
   },
   "outputs": [
    {
     "name": "stdout",
     "output_type": "stream",
     "text": [
      "Train MSE: -0.6377980761210413\n",
      "Test MSE: -0.7571674400998917\n",
      "Train R2: 0.18782364604846866\n",
      "Test R2: 0.014943640061756414\n",
      "        coef                     feature\n",
      "25  0.287853                  kw_avg_avg\n",
      "0   0.132310                   timedelta\n",
      "11  0.086687                num_keywords\n",
      "28  0.081560  self_reference_avg_sharess\n",
      "19  0.069272                  kw_avg_min\n",
      "6   0.067470                   num_hrefs\n",
      "3   0.043934             n_unique_tokens\n",
      "46  0.042937         rate_positive_words\n",
      "35  0.040971           weekday_is_sunday\n",
      "50  0.040865       max_positive_polarity\n",
      "7.430064471052894\n"
     ]
    }
   ],
   "source": [
    "model = Ridge(alpha=10**-study.best_params['r'])\n",
    "scores = cross_validate(model, X, y_log, cv=4, scoring=['neg_mean_squared_error', 'r2'], return_train_score=True)\n",
    "print('Train MSE:', scores['train_neg_mean_squared_error'].mean())\n",
    "print('Test MSE:', scores['test_neg_mean_squared_error'].mean())\n",
    "print('Train R2:', scores['train_r2'].mean())\n",
    "print('Test R2:', scores['test_r2'].mean())\n",
    "model.fit(X, y_log)\n",
    "cfs = pd.DataFrame({'coef':model.coef_, 'feature':columns})\n",
    "cfs['cfsabs'] = np.abs(cfs.coef)\n",
    "print((cfs).sort_values('cfsabs', ascending=False).head(10))\n",
    "print(model.intercept_)"
   ]
  },
  {
   "cell_type": "markdown",
   "metadata": {
    "collapsed": false
   },
   "source": [
    "### Linear Regression + L1 reg + L2 reg"
   ]
  },
  {
   "cell_type": "markdown",
   "metadata": {
    "collapsed": false
   },
   "source": [
    "#### Default parameters"
   ]
  },
  {
   "cell_type": "code",
   "execution_count": 42,
   "metadata": {
    "collapsed": false
   },
   "outputs": [
    {
     "name": "stdout",
     "output_type": "stream",
     "text": [
      "Train MSE: -0.7860909903129962\n",
      "Test MSE: -0.8105010146814803\n",
      "Train R2: 0.0\n",
      "Test R2: -0.05546542691498041\n",
      "    coef                    feature  cfsabs\n",
      "0    0.0                  timedelta     0.0\n",
      "43   0.0  global_sentiment_polarity     0.0\n",
      "31  -0.0       weekday_is_wednesday     0.0\n",
      "32  -0.0        weekday_is_thursday     0.0\n",
      "33  -0.0          weekday_is_friday     0.0\n",
      "34   0.0        weekday_is_saturday     0.0\n",
      "35   0.0          weekday_is_sunday     0.0\n",
      "36   0.0                 is_weekend     0.0\n",
      "37   0.0                     LDA_00     0.0\n",
      "38   0.0                     LDA_01     0.0\n",
      "7.430064470357546\n"
     ]
    }
   ],
   "source": [
    "model = ElasticNet()\n",
    "scores = cross_validate(model, X, y_log, cv=4, scoring=['neg_mean_squared_error', 'r2'], return_train_score=True)\n",
    "print('Train MSE:', scores['train_neg_mean_squared_error'].mean())\n",
    "print('Test MSE:', scores['test_neg_mean_squared_error'].mean())\n",
    "print('Train R2:', scores['train_r2'].mean())\n",
    "print('Test R2:', scores['test_r2'].mean())\n",
    "model.fit(X, y_log)\n",
    "cfs = pd.DataFrame({'coef':model.coef_, 'feature':columns})\n",
    "cfs['cfsabs'] = np.abs(cfs.coef)\n",
    "print((cfs).sort_values('cfsabs', ascending=False).head(10))\n",
    "print(model.intercept_)"
   ]
  },
  {
   "cell_type": "markdown",
   "metadata": {
    "collapsed": false
   },
   "source": [
    "#### Optimized parameters"
   ]
  },
  {
   "cell_type": "code",
   "execution_count": 26,
   "metadata": {
    "collapsed": false
   },
   "outputs": [],
   "source": [
    "def objective(trial):\n",
    "    return cross_val_score(ElasticNet(alpha=10 ** trial.suggest_float('r', -15, -1), l1_ratio=trial.suggest_float('l1_ratio', 0, 1)), X, y_log, cv=4, scoring='r2').mean()"
   ]
  },
  {
   "cell_type": "code",
   "execution_count": 39,
   "metadata": {
    "collapsed": false
   },
   "outputs": [],
   "source": [
    "study = optuna.create_study(direction='maximize')\n",
    "study.optimize(objective, 100, n_jobs=-1)"
   ]
  },
  {
   "cell_type": "code",
   "execution_count": 28,
   "metadata": {
    "collapsed": false
   },
   "outputs": [
    {
     "data": {
      "text/plain": [
       "{'r': -1.0004079687946263, 'l1_ratio': 0.053928037568773436}"
      ]
     },
     "execution_count": 28,
     "metadata": {},
     "output_type": "execute_result"
    }
   ],
   "source": [
    "study.best_params"
   ]
  },
  {
   "cell_type": "code",
   "execution_count": 32,
   "metadata": {
    "collapsed": false
   },
   "outputs": [
    {
     "data": {
      "text/plain": [
       "<Axes: xlabel='params_l1_ratio'>"
      ]
     },
     "execution_count": 32,
     "metadata": {},
     "output_type": "execute_result"
    },
    {
     "data": {
      "image/png": "[encoded data removed]",
      "text/plain": [
       "<Figure size 640x480 with 1 Axes>"
      ]
     },
     "metadata": {},
     "output_type": "display_data"
    },
    {
     "data": {
      "image/png": "[encoded data removed]",
      "text/plain": [
       "<Figure size 640x480 with 1 Axes>"
      ]
     },
     "metadata": {},
     "output_type": "display_data"
    }
   ],
   "source": [
    "results = study.trials_dataframe()\n",
    "results = results[['params_r', 'params_l1_ratio', 'value']]\n",
    "results.sort_values('params_r').plot('params_r', 'value')\n",
    "results.sort_values('params_l1_ratio').plot('params_l1_ratio', 'value')"
   ]
  },
  {
   "cell_type": "code",
   "execution_count": 30,
   "metadata": {
    "collapsed": false
   },
   "outputs": [
    {
     "name": "stdout",
     "output_type": "stream",
     "text": [
      "Train MSE: -0.6461035412704076\n",
      "Test MSE: -0.7439660657695177\n",
      "Train R2: 0.17731192456875466\n",
      "Test R2: 0.03180480125110802\n",
      "        coef                     feature\n",
      "25  0.168131                  kw_avg_avg\n",
      "0   0.121466                   timedelta\n",
      "11  0.078847                num_keywords\n",
      "6   0.057709                   num_hrefs\n",
      "36  0.049968                  is_weekend\n",
      "35  0.027791           weekday_is_sunday\n",
      "28  0.026367  self_reference_avg_sharess\n",
      "8   0.023666                    num_imgs\n",
      "50  0.021654       max_positive_polarity\n",
      "22  0.021569                  kw_avg_max\n",
      "7.430064470959853\n"
     ]
    }
   ],
   "source": [
    "model = ElasticNet(alpha=10 ** study.best_params['r'], l1_ratio=study.best_params['l1_ratio'])\n",
    "scores = cross_validate(model, X, y_log, cv=4, scoring=['neg_mean_squared_error', 'r2'], return_train_score=True)\n",
    "print('Train MSE:', scores['train_neg_mean_squared_error'].mean())\n",
    "print('Test MSE:', scores['test_neg_mean_squared_error'].mean())\n",
    "print('Train R2:', scores['train_r2'].mean())\n",
    "print('Test R2:', scores['test_r2'].mean())\n",
    "model.fit(X, y_log)\n",
    "cfs = pd.DataFrame({'coef':model.coef_, 'feature':columns})\n",
    "cfs['cfsabs'] = np.abs(cfs.coef)\n",
    "print((cfs).sort_values('cfsabs', ascending=False).head(10))\n",
    "print(model.intercept_)"
   ]
  },
  {
   "cell_type": "code",
   "execution_count": null,
   "metadata": {
    "collapsed": false
   },
   "outputs": [],
   "source": []
  }
 ],
 "metadata": {
  "kernelspec": {
   "display_name": "Python 3",
   "language": "python",
   "name": "python3"
  },
  "language_info": {
   "codemirror_mode": {
    "name": "ipython",
    "version": 2
   },
   "file_extension": ".py",
   "mimetype": "text/x-python",
   "name": "python",
   "nbconvert_exporter": "python",
   "pygments_lexer": "ipython2",
   "version": "2.7.6"
  }
 },
 "nbformat": 4,
 "nbformat_minor": 0
}
